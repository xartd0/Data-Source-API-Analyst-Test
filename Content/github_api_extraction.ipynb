{
 "cells": [
  {
   "cell_type": "code",
   "execution_count": null,
   "metadata": {},
   "outputs": [],
   "source": [
    "# GitHub API Extraction using Python\n",
    "\n",
    "## Introduction\n",
    "\n",
    "In this notebook, we will interact with the GitHub API to fulfill the client's needs:\n",
    "\n",
    "- Search Repositories (public)\n",
    "- Retrieve Commits\n",
    "- Access Repository Contents\n",
    "\n",
    "We will implement authentication, handle pagination, manage rate limits, and include error handling as per best practices.\n",
    "\n",
    "## Setup\n",
    "\n",
    "### Import Libraries\n",
    "\n",
    "```python\n",
    "import requests\n",
    "import time\n",
    "import os\n",
    "from requests.exceptions import HTTPError, ConnectionError, Timeout\n"
   ]
  },
  {
   "cell_type": "markdown",
   "metadata": {},
   "source": [
    "## Authentication\n",
    "### We need to authenticate our requests using a GitHub Personal Access Token (PAT)."
   ]
  },
  {
   "cell_type": "code",
   "execution_count": null,
   "metadata": {},
   "outputs": [],
   "source": [
    "# Securely load the GitHub token from environment variables\n",
    "GITHUB_TOKEN = os.getenv('GITHUB_TOKEN')\n",
    "\n",
    "if not GITHUB_TOKEN:\n",
    "    raise ValueError(\"GitHub token not found. Please set the GITHUB_TOKEN environment variable.\")\n",
    "\n",
    "headers = {\n",
    "    'Authorization': f'token {GITHUB_TOKEN}',\n",
    "    'Accept': 'application/vnd.github.v3+json'\n",
    "}\n"
   ]
  },
  {
   "cell_type": "markdown",
   "metadata": {},
   "source": [
    "## Note: Ensure that you have set the GITHUB_TOKEN environment variable before running this notebook. You can set it in Colab using:"
   ]
  },
  {
   "cell_type": "code",
   "execution_count": null,
   "metadata": {},
   "outputs": [],
   "source": [
    "import os\n",
    "os.environ['GITHUB_TOKEN'] = 'your_personal_access_token'"
   ]
  },
  {
   "cell_type": "markdown",
   "metadata": {},
   "source": [
    "## Helper Functions\n",
    "### Rate Limit Handling"
   ]
  },
  {
   "cell_type": "code",
   "execution_count": null,
   "metadata": {},
   "outputs": [],
   "source": [
    "def check_rate_limit(response):\n",
    "    \"\"\"\n",
    "    Checks the API rate limit and sleeps if necessary.\n",
    "\n",
    "    Args:\n",
    "        response (requests.Response): The response object from a previous request.\n",
    "\n",
    "    Raises:\n",
    "        Exception: If the rate limit is exceeded and cannot proceed.\n",
    "    \"\"\"\n",
    "    remaining = int(response.headers.get('X-RateLimit-Remaining', 0))\n",
    "    reset_time = int(response.headers.get('X-RateLimit-Reset', 0))\n",
    "    if remaining == 0:\n",
    "        sleep_time = reset_time - int(time.time()) + 5  # Add buffer\n",
    "        if sleep_time > 0:\n",
    "            print(f\"Rate limit exceeded. Sleeping for {sleep_time} seconds.\")\n",
    "            time.sleep(sleep_time)\n",
    "        else:\n",
    "            raise Exception(\"Rate limit exceeded and cannot sleep.\")\n"
   ]
  },
  {
   "cell_type": "markdown",
   "metadata": {},
   "source": [
    "## Error Handling"
   ]
  },
  {
   "cell_type": "code",
   "execution_count": null,
   "metadata": {},
   "outputs": [],
   "source": [
    "def handle_errors(response):\n",
    "    \"\"\"\n",
    "    Handles HTTP errors and raises exceptions.\n",
    "\n",
    "    Args:\n",
    "        response (requests.Response): The response object to check.\n",
    "\n",
    "    Raises:\n",
    "        HTTPError: If an HTTP error occurred.\n",
    "    \"\"\"\n",
    "    try:\n",
    "        response.raise_for_status()\n",
    "    except HTTPError as http_err:\n",
    "        status_code = response.status_code\n",
    "        error_message = response.json().get('message', '')\n",
    "        print(f\"HTTP error occurred: {http_err} - {error_message}\")\n",
    "        if status_code == 401:\n",
    "            print(\"Unauthorized access. Check your authentication token.\")\n",
    "        elif status_code == 403:\n",
    "            print(\"Forbidden access. You might have hit the rate limit.\")\n",
    "        elif status_code == 404:\n",
    "            print(\"Resource not found. Check the endpoint and parameters.\")\n",
    "        else:\n",
    "            print(f\"An error occurred: {response.content}\")\n",
    "        raise\n",
    "    except Exception as err:\n",
    "        print(f\"An error occurred: {err}\")\n",
    "        raise\n"
   ]
  },
  {
   "cell_type": "markdown",
   "metadata": {},
   "source": [
    "## Pagination Handling"
   ]
  },
  {
   "cell_type": "code",
   "execution_count": null,
   "metadata": {},
   "outputs": [],
   "source": [
    "def get_next_page(response):\n",
    "    \"\"\"\n",
    "    Parses the 'Link' header to get the URL for the next page.\n",
    "\n",
    "    Args:\n",
    "        response (requests.Response): The response object containing pagination links.\n",
    "\n",
    "    Returns:\n",
    "        str or None: The URL for the next page, or None if there is no next page.\n",
    "    \"\"\"\n",
    "    link = response.headers.get('Link', '')\n",
    "    if 'rel=\"next\"' in link:\n",
    "        links = link.split(',')\n",
    "        for l in links:\n",
    "            if 'rel=\"next\"' in l:\n",
    "                url = l[l.find('<') + 1:l.find('>')]\n",
    "                return url\n",
    "    return None\n"
   ]
  },
  {
   "cell_type": "markdown",
   "metadata": {},
   "source": [
    "## Functions for API Endpoints"
   ]
  },
  {
   "cell_type": "markdown",
   "metadata": {},
   "source": [
    "### Search Repositories"
   ]
  },
  {
   "cell_type": "code",
   "execution_count": null,
   "metadata": {},
   "outputs": [],
   "source": [
    "def search_repositories(query, per_page=30, max_pages=5):\n",
    "    \"\"\"\n",
    "    Searches public repositories based on a query.\n",
    "\n",
    "    Args:\n",
    "        query (str): The search query.\n",
    "        per_page (int, optional): Number of results per page. Defaults to 30.\n",
    "        max_pages (int, optional): Maximum number of pages to retrieve. Defaults to 5.\n",
    "\n",
    "    Returns:\n",
    "        list: A list of repository items.\n",
    "    \"\"\"\n",
    "    url = 'https://api.github.com/search/repositories'\n",
    "    params = {'q': query, 'per_page': per_page}\n",
    "    all_items = []\n",
    "    page = 1\n",
    "\n",
    "    while url and page <= max_pages:\n",
    "        try:\n",
    "            response = requests.get(url, headers=headers, params=params)\n",
    "            handle_errors(response)\n",
    "            check_rate_limit(response)\n",
    "            data = response.json()\n",
    "            items = data.get('items', [])\n",
    "            all_items.extend(items)\n",
    "            print(f\"Fetched {len(items)} repositories from page {page}.\")\n",
    "            url = get_next_page(response)\n",
    "            params = None  # Clear params after the first request\n",
    "            page += 1\n",
    "        except (ConnectionError, Timeout) as e:\n",
    "            print(f\"Network error occurred: {e}. Retrying after 5 seconds.\")\n",
    "            time.sleep(5)\n",
    "        except Exception as e:\n",
    "            print(f\"An unexpected error occurred: {e}\")\n",
    "            break\n",
    "    return all_items\n"
   ]
  },
  {
   "cell_type": "markdown",
   "metadata": {},
   "source": [
    "### Example Usage"
   ]
  },
  {
   "cell_type": "code",
   "execution_count": null,
   "metadata": {},
   "outputs": [],
   "source": [
    "# Example: Search for repositories related to 'data analysis'\n",
    "repositories = search_repositories('data analysis', per_page=30, max_pages=2)\n",
    "\n",
    "print(f\"Total repositories fetched: {len(repositories)}\")\n",
    "for repo in repositories[:5]:\n",
    "    print(f\"{repo['full_name']}: {repo['html_url']}\")\n"
   ]
  },
  {
   "cell_type": "markdown",
   "metadata": {},
   "source": [
    "### Retrieve Commits"
   ]
  },
  {
   "cell_type": "code",
   "execution_count": null,
   "metadata": {},
   "outputs": [],
   "source": [
    "def get_commits(owner, repo, per_page=30, max_pages=5):\n",
    "    \"\"\"\n",
    "    Retrieves commits from a repository.\n",
    "\n",
    "    Args:\n",
    "        owner (str): Owner of the repository.\n",
    "        repo (str): Repository name.\n",
    "        per_page (int, optional): Number of results per page. Defaults to 30.\n",
    "        max_pages (int, optional): Maximum number of pages to retrieve. Defaults to 5.\n",
    "\n",
    "    Returns:\n",
    "        list: A list of commits.\n",
    "    \"\"\"\n",
    "    url = f'https://api.github.com/repos/{owner}/{repo}/commits'\n",
    "    params = {'per_page': per_page}\n",
    "    all_commits = []\n",
    "    page = 1\n",
    "\n",
    "    while url and page <= max_pages:\n",
    "        try:\n",
    "            response = requests.get(url, headers=headers, params=params)\n",
    "            handle_errors(response)\n",
    "            check_rate_limit(response)\n",
    "            commits = response.json()\n",
    "            all_commits.extend(commits)\n",
    "            print(f\"Fetched {len(commits)} commits from page {page}.\")\n",
    "            url = get_next_page(response)\n",
    "            params = None\n",
    "            page += 1\n",
    "        except (ConnectionError, Timeout) as e:\n",
    "            print(f\"Network error occurred: {e}. Retrying after 5 seconds.\")\n",
    "            time.sleep(5)\n",
    "        except Exception as e:\n",
    "            print(f\"An unexpected error occurred: {e}\")\n",
    "            break\n",
    "    return all_commits\n"
   ]
  },
  {
   "cell_type": "markdown",
   "metadata": {},
   "source": [
    "### Example Usage"
   ]
  },
  {
   "cell_type": "code",
   "execution_count": null,
   "metadata": {},
   "outputs": [],
   "source": [
    "# Example: Get commits from a specific repository\n",
    "owner = 'xartd0'\n",
    "repo = 'Hello-World'\n",
    "commits = get_commits(owner, repo, per_page=30, max_pages=2)\n",
    "\n",
    "print(f\"Total commits fetched: {len(commits)}\")\n",
    "for commit in commits[:5]:\n",
    "    message = commit['commit']['message']\n",
    "    sha = commit['sha']\n",
    "    print(f\"Commit {sha[:7]}: {message.splitlines()[0]}\")\n"
   ]
  },
  {
   "cell_type": "markdown",
   "metadata": {},
   "source": [
    "### Access Repository Contents"
   ]
  },
  {
   "cell_type": "code",
   "execution_count": null,
   "metadata": {},
   "outputs": [],
   "source": [
    "def get_repo_contents(owner, repo, path='', ref=None):\n",
    "    \"\"\"\n",
    "    Retrieves the contents of a repository or directory.\n",
    "\n",
    "    Args:\n",
    "        owner (str): Owner of the repository.\n",
    "        repo (str): Repository name.\n",
    "        path (str, optional): Path within the repository. Defaults to '' (root).\n",
    "        ref (str, optional): The name of the commit/branch/tag. Defaults to default branch.\n",
    "\n",
    "    Returns:\n",
    "        list or dict: The contents of the repository at the given path.\n",
    "    \"\"\"\n",
    "    url = f'https://api.github.com/repos/{owner}/{repo}/contents/{path}'\n",
    "    params = {}\n",
    "    if ref:\n",
    "        params['ref'] = ref\n",
    "    try:\n",
    "        response = requests.get(url, headers=headers, params=params)\n",
    "        handle_errors(response)\n",
    "        check_rate_limit(response)\n",
    "        contents = response.json()\n",
    "        return contents\n",
    "    except (ConnectionError, Timeout) as e:\n",
    "        print(f\"Network error occurred: {e}. Retrying after 5 seconds.\")\n",
    "        time.sleep(5)\n",
    "    except Exception as e:\n",
    "        print(f\"An unexpected error occurred: {e}\")\n",
    "        return None\n"
   ]
  },
  {
   "cell_type": "markdown",
   "metadata": {},
   "source": [
    "### Example Usage"
   ]
  },
  {
   "cell_type": "code",
   "execution_count": null,
   "metadata": {},
   "outputs": [],
   "source": [
    "# Example: Get the contents of the root directory of a repository\n",
    "owner = 'xartd0'\n",
    "repo = 'Hello-World'\n",
    "contents = get_repo_contents(owner, repo)\n",
    "\n",
    "if contents:\n",
    "    print(\"Repository Contents:\")\n",
    "    for item in contents:\n",
    "        print(f\"{item['type']}: {item['name']}\")\n"
   ]
  }
 ],
 "metadata": {
  "kernelspec": {
   "display_name": "Python 3",
   "language": "python",
   "name": "python3"
  },
  "language_info": {
   "name": "python",
   "version": "3.12.3"
  }
 },
 "nbformat": 4,
 "nbformat_minor": 2
}
